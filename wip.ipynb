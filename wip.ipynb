{
 "cells": [
  {
   "cell_type": "code",
   "execution_count": 6,
   "metadata": {},
   "outputs": [],
   "source": [
    "from pyspark.sql.functions import udf, col, when, max, min\n",
    "from pyspark.sql.types import StringType\n",
    "from pyspark.sql import SQLContext\n",
    "from pyspark import SparkContext, SparkConf"
   ]
  },
  {
   "cell_type": "code",
   "execution_count": 7,
   "metadata": {},
   "outputs": [],
   "source": [
    "conf = SparkConf().setAppName(\"parallel-project\")\n",
    "# sc = SparkContext(conf=conf)\n",
    "sc = SparkContext.getOrCreate()\n",
    "spark = SQLContext(sc)"
   ]
  },
  {
   "cell_type": "code",
   "execution_count": 10,
   "metadata": {},
   "outputs": [],
   "source": [
    "comments = spark.read.json(\"RC_2019-02-28-one-day\")"
   ]
  },
  {
   "cell_type": "code",
   "execution_count": 15,
   "metadata": {},
   "outputs": [
    {
     "data": {
      "text/plain": [
       "[Row(subreddit='reddevils', body=\"Me too. I've been a fan for 25 years. This is the first time since the Fergie left where I feel like we are a proper team with tactics and a plan to conquer the league. \\n\\nMessed up part is, it's the same damn players!!! This is proper United football, and if the board and Woodward don't support what we are seeing, they are coocoo \", created_utc=1551312000, parent_id='t1_ehfhhrv'),\n",
       " Row(subreddit='AskReddit', body='Interesting, but the name of the food item probably has a Germanic origin rather than Latin.', created_utc=1551312000, parent_id='t1_ehf957b'),\n",
       " Row(subreddit='teenagers', body='Oh ok, just thinking why would a girl bother sending a follow request if they dislike you?', created_utc=1551312000, parent_id='t1_ehfr9iv'),\n",
       " Row(subreddit='science', body='This imo is the real benefit. Farming of all kinds have a strong impact on the environment. And anything that can reduce energy impact helps.', created_utc=1551312000, parent_id='t1_ehfqygy'),\n",
       " Row(subreddit='gifs', body='This is how old people think bitcoin works ', created_utc=1551312000, parent_id='t3_avih68'),\n",
       " Row(subreddit='RagnarokMobile', body='Thanks for the advice! Still working on devil wings. Is it better to have a 2slot desert twilight(so i can put 2 mino cards) or 1 slot SS?', created_utc=1551312000, parent_id='t1_ehdpwwi'),\n",
       " Row(subreddit='Teachers', body=\"It won't make him ready for kindergarten, but it won't be allowing him the proximity to the girl he targets. It'll help her be ready when she doesn't have to watch her back 24/7 at school. Do you think the lack of consequence sends the message to his parents that this isn't normal? If no one else is concerned, you need to make them concerned, and a sit down meeting with admin and the parents about how this needs to change or else he's out might make them concerned enough to work with him at home or hopefully get him therapy.\", created_utc=1551312000, parent_id='t1_ehfqweb'),\n",
       " Row(subreddit='FADQ', body=\"Thank you, sir! I hadn't seen it\", created_utc=1551312000, parent_id='t1_ehebifh'),\n",
       " Row(subreddit='AskReddit', body='Yeah, there’s no problem whatsoever with a character being gay, but it’s such blatantly obvious virtue signalling.', created_utc=1551312000, parent_id='t1_ehf0l1q'),\n",
       " Row(subreddit='dankmemes', body='I’m 21 and this is still me', created_utc=1551312000, parent_id='t3_avca9k')]"
      ]
     },
     "execution_count": 15,
     "metadata": {},
     "output_type": "execute_result"
    }
   ],
   "source": [
    "comments = comments.select('subreddit', 'body', 'created_utc', 'parent_id')\n",
    "\n",
    "# Remove any comments with the content '[deleted]' (meaning that the comment has been since deleted)\n",
    "comments = comments.filter(comments.body != '[deleted]')\\\n",
    "                   .filter(comments.body != '[removed]')\n",
    "\n",
    "# reddit comments are written in markdown, so convert the comments to plain text for the NLP\n",
    "\n",
    "\n",
    "comments.take(10)\n",
    "# comments.count()"
   ]
  },
  {
   "cell_type": "code",
   "execution_count": null,
   "metadata": {},
   "outputs": [],
   "source": []
  }
 ],
 "metadata": {
  "kernelspec": {
   "display_name": "PySpark",
   "language": "python",
   "name": "pyspark"
  },
  "language_info": {
   "codemirror_mode": {
    "name": "ipython",
    "version": 3
   },
   "file_extension": ".py",
   "mimetype": "text/x-python",
   "name": "python",
   "nbconvert_exporter": "python",
   "pygments_lexer": "ipython3",
   "version": "3.6.3"
  }
 },
 "nbformat": 4,
 "nbformat_minor": 2
}
